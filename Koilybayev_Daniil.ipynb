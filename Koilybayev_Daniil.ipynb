{
 "metadata": {
  "language_info": {
   "codemirror_mode": {
    "name": "ipython",
    "version": 3
   },
   "file_extension": ".py",
   "mimetype": "text/x-python",
   "name": "python",
   "nbconvert_exporter": "python",
   "pygments_lexer": "ipython3",
   "version": 3
  },
  "orig_nbformat": 2
 },
 "nbformat": 4,
 "nbformat_minor": 2,
 "cells": [
  {
   "cell_type": "code",
   "execution_count": null,
   "metadata": {},
   "outputs": [],
   "source": [
    "# 5.You are given a string s. Each character is either 0 or 1.\n",
    "for i in range(int(input())):\n",
    "    s = input().strip('0')  # we delete 0 from the beggining, and from the end of the string\n",
    "    print(s.count('0'))  # count 0 in our string\n"
   ]
  },
  {
   "cell_type": "code",
   "execution_count": null,
   "metadata": {},
   "outputs": [],
   "source": [
    "# 1.It seems like the year of 2013 came only yesterday. Do you know a curious fact? The year of 2013 is the first year after the old 1987 with only distinct digits.\n",
    "s = int(input())\n",
    "while True:\n",
    "    s += 1\n",
    "    if len(set(str(s))) >= 4:\n",
    "        print(s)\n",
    "        break\n"
   ]
  },
  {
   "cell_type": "code",
   "execution_count": null,
   "metadata": {},
   "outputs": [],
   "source": [
    "# 2.Let's consider a table consisting of n rows and n columns. The cell located at the intersection of i-th row and j-th column contains number i × j. The rows and columns are numbered starting from 1.\n",
    "n, x = map(int, input().split())\n",
    "cnt = 0\n",
    "for i in range(1, n+1): # from 1 because table starts from 1\n",
    "    if x % i == 0 and x/i <= n: # check two conditions\n",
    "        cnt += 1\n",
    "print(cnt)\n"
   ]
  },
  {
   "cell_type": "code",
   "execution_count": null,
   "metadata": {},
   "outputs": [],
   "source": [
    "# 3.Fafa owns a company that works on huge projects. There are n employees in Fafa's company. Whenever the company has a new project to start working on, Fafa has to divide the tasks of this project among all the employees.\n",
    "n = int(input())\n",
    "cnt = 0\n",
    "for i in range(1, n):\n",
    "    if n % i == 0:\n",
    "        cnt += 1\n",
    "print(cnt)\n"
   ]
  },
  {
   "cell_type": "code",
   "execution_count": null,
   "metadata": {},
   "outputs": [],
   "source": [
    "# 4.Those days, many boys use beautiful girls' photos as avatars in forums. So it is pretty hard to tell the gender of a user at the first glance. Last year, our hero went to a forum and had a nice chat \n",
    "print(\"IGNORE HIM!\" if len(list(set(input()))) % 2 == 1 else \"CHAT WITH HER!\")\n"
   ]
  },
  {
   "cell_type": "code",
   "execution_count": null,
   "metadata": {},
   "outputs": [],
   "source": [
    "# By Koilybayev Daniil"
   ]
  }
 ]
}
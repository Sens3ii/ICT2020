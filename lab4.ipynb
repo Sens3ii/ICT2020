{
 "metadata": {
  "language_info": {
   "codemirror_mode": {
    "name": "ipython",
    "version": 3
   },
   "file_extension": ".py",
   "mimetype": "text/x-python",
   "name": "python",
   "nbconvert_exporter": "python",
   "pygments_lexer": "ipython3",
   "version": "3.8.5-final"
  },
  "orig_nbformat": 2,
  "kernelspec": {
   "name": "python3",
   "display_name": "Python 3"
  }
 },
 "nbformat": 4,
 "nbformat_minor": 2,
 "cells": [
  {
   "source": [
    "LAB4. Koilybayev Daniil."
   ],
   "cell_type": "markdown",
   "metadata": {}
  },
  {
   "source": [
    "# Exercise128: Reverse Lookup\n",
    "def reverseLookup(myDict, target):\n",
    "    ans = []\n",
    "    for key in myDict:\n",
    "        if myDict[key] == target:\n",
    "            ans.append(key)\n",
    "    return ans\n",
    "\n",
    "sameNames = {\n",
    "    \"Alex\": 1,\n",
    "    \"Daniil\": 3,\n",
    "    \"Ivan\": 2,\n",
    "    \"Yato\": 3,\n",
    "    \"Magatsukami\": 3,\n",
    "}\n",
    "\n",
    "print(reverseLookup(sameNames, 5))\n",
    "print(reverseLookup(sameNames, 2))\n",
    "print(reverseLookup(sameNames, 3))"
   ],
   "cell_type": "code",
   "metadata": {},
   "execution_count": 1,
   "outputs": [
    {
     "output_type": "stream",
     "name": "stdout",
     "text": [
      "[]\n['Ivan']\n['Daniil', 'Yato', 'Magatsukami']\n"
     ]
    }
   ]
  },
  {
   "cell_type": "code",
   "execution_count": 76,
   "metadata": {},
   "outputs": [
    {
     "output_type": "stream",
     "name": "stdout",
     "text": [
      "Total\tSimulated   Expected\t\n     \t  Percent    Percent\t\n    2        2.8      2.78\n    3        6.4      5.56\n    4        8.2      8.34\n    5        11.6      11.12\n    6        12.5      13.9\n    7        17.7      16.68\n    8        13.8      13.9\n    9        11.9      11.12\n    10        7.7      8.34\n    11        4.9      5.56\n    12        2.5      2.78\n"
     ]
    }
   ],
   "source": [
    "# Exercise129: Two Dice Simulation\n",
    "import random\n",
    "def rollDices():\n",
    "    return random.randint(1,6) + random.randint(1,6)\n",
    "\n",
    "data = {i : 0 for i in range(2,13)} # fill keys 2-12 by zero values\n",
    "for i in range(1000): # roll dice\n",
    "    data[rollDices()]+=1\n",
    "\n",
    "expected = [0,0,1,2,3,4,5,6,5,4,3,2,1] # chances to take 0,1,2,3 etc....\n",
    "\n",
    "# Output\n",
    "print(\"Total\\t\"+\"Simulated   \"+\"Expected\\t\" )\n",
    "print(\"     \\t\"+\"  Percent   \"+\" Percent\\t\" )\n",
    "for k,v in data.items():\n",
    "    print(\"    \" + str(k) + \"        \" + str(v/10) + \"      \" + str(round(expected[k]*2.78,2)))"
   ]
  },
  {
   "cell_type": "code",
   "execution_count": 78,
   "metadata": {},
   "outputs": [
    {
     "output_type": "stream",
     "name": "stdout",
     "text": [
      "44335555556660966677755531111\n"
     ]
    }
   ],
   "source": [
    "# Exercise130: Text Messaging\n",
    "decryptor = {\n",
    "    '.,?!:' : '1',\n",
    "    'ABC' : '2',\n",
    "    'DEF' : '3',\n",
    "    'GHI' : '4',\n",
    "    'JKL' : '5',\n",
    "    'MNO' : '6',\n",
    "    'PQRS' : '7',\n",
    "    'TUV' : '8',\n",
    "    'WXYZ' : '9',\n",
    "    ' ' : '0'\n",
    "}\n",
    "\n",
    "ans= \"\"\n",
    "s = input().upper()\n",
    "for letter in s:\n",
    "    for key in decryptor:\n",
    "        if letter in key:\n",
    "            ans += decryptor[key] * (key.find(letter) + 1)\n",
    "print(ans)"
   ]
  },
  {
   "cell_type": "code",
   "execution_count": 80,
   "metadata": {},
   "outputs": [
    {
     "output_type": "stream",
     "name": "stdout",
     "text": [
      ".... . .-.. .-.. --- .-- --- .-. .-.. -.. "
     ]
    }
   ],
   "source": [
    "# Exercise131: MorseCode\n",
    "myDict = { 'A':'.-',\n",
    "        'B':'-...',\n",
    "        'C':'-.-.', \n",
    "        'D':'-..', \n",
    "        'E':'.', \n",
    "        'F':'..-.', \n",
    "        'G':'--.', \n",
    "        'H':'....', \n",
    "        'I':'..', \n",
    "        'J':'.---',\n",
    "        'K':'-.-', \n",
    "        'L':'.-..',\n",
    "        'M':'--',\n",
    "        'N':'-.', \n",
    "        'O':'---', \n",
    "        'P':'.--.', \n",
    "        'Q':'--.-', \n",
    "        'R':'.-.', \n",
    "        'S':'...', \n",
    "        'T':'-', \n",
    "        'U':'..-', \n",
    "        'V':'...-', \n",
    "        'W':'.--', \n",
    "        'X':'-..-', \n",
    "        'Y':'-.--', \n",
    "        'Z':'--..', \n",
    "        '1':'.----', \n",
    "        '2':'..---', \n",
    "        '3':'...--', \n",
    "        '4':'....-', \n",
    "        '5':'.....', \n",
    "        '6':'-....', \n",
    "        '7':'--...', \n",
    "        '8':'---..', \n",
    "        '9':'----.', \n",
    "        '0':'-----'\n",
    "}\n",
    "s = input().upper()\n",
    "for letter in s:\n",
    "    if (letter in myDict):\n",
    "        print(myDict[letter], end = ' ')"
   ]
  },
  {
   "cell_type": "code",
   "execution_count": 83,
   "metadata": {},
   "outputs": [
    {
     "output_type": "stream",
     "name": "stdout",
     "text": [
      "Rural. Address: Nunavut or Northwest Territories\n"
     ]
    }
   ],
   "source": [
    "# Exercise132: Postal Codes\n",
    "postCodes = {\n",
    "    'A' : 'Newfoundland',\n",
    "    'B' : 'Nova Scotia',\n",
    "    'C' : 'Prince Edward Island',\n",
    "    'E' : 'New Brunswick',\n",
    "    'G' : 'Quebec',\n",
    "    'H' : 'Quebec',\n",
    "    'J' : 'Quebec',\n",
    "    'K' : 'Ontario',\n",
    "    'L' : 'Ontario',\n",
    "    'M' : 'Ontario',\n",
    "    'N' : 'Ontario',\n",
    "    'P' : 'Ontario',\n",
    "    'R' : 'Manitoba',\n",
    "    'S' : 'Saskatchewan',\n",
    "    'T' : 'Alberta',\n",
    "    'V' : 'British Columbia',\n",
    "    'X' : 'Nunavut or Northwest Territories',\n",
    "    'Y' : 'Yukon'\n",
    "}\n",
    "\n",
    "s = input()\n",
    "if (len(s)==6 and (s[ : : 2].isalpha() and not (s[1 : : 2].isalpha()))):\n",
    "    if (s[1] == '0'):\n",
    "        print('Rural. Address: ' + postCodes[s[0]])\n",
    "    elif (s[1] == '1'):\n",
    "        print('Urban. Address: ' + postCodes[s[0]])\n",
    "    else:\n",
    "        print('Wrong postal code')\n",
    "else:\n",
    "    print('Wrong postal code')"
   ]
  },
  {
   "cell_type": "code",
   "execution_count": 84,
   "metadata": {},
   "outputs": [
    {
     "output_type": "stream",
     "name": "stdout",
     "text": [
      "five hundred five \n"
     ]
    }
   ],
   "source": [
    "# Exercise133: Write Out Numbers in English\n",
    "decoder = {\n",
    "    0: 'zero',\n",
    "    1: 'one',\n",
    "    2: 'two',\n",
    "    3: 'three',\n",
    "    4: 'four',\n",
    "    5: 'five',\n",
    "    6: 'six',\n",
    "    7: 'seven',\n",
    "    8: 'eight',\n",
    "    9: 'nine',\n",
    "    10: 'ten',\n",
    "    11: 'eleven',\n",
    "    12: 'twelve',\n",
    "    13: 'thirteen',\n",
    "    14: 'fourteen',\n",
    "    15: 'fifteen',\n",
    "    16: 'sixteen',\n",
    "    17: 'seventeen',\n",
    "    18: 'eighteen',\n",
    "    19: 'nineteen',\n",
    "    20: 'twenty',\n",
    "    30: 'thirty',\n",
    "    40: 'forty',\n",
    "    50: 'fifty',\n",
    "    60: 'sixty',\n",
    "    70: 'seventy',\n",
    "    80: 'eighty',\n",
    "    90: 'ninety'\n",
    "}\n",
    "\n",
    "def isValid(n):\n",
    "    return len(str(n)) <= 3\n",
    "\n",
    "def intToString(n):\n",
    "    n = str(n)\n",
    "    ans = \"\"\n",
    "    size = len(n)\n",
    "    if len(n) == 3:\n",
    "        ans += decoder[int(n[0])] + \" hundred \"\n",
    "    if len(n) >= 2:\n",
    "        if n[-2] == '1':\n",
    "            ans += decoder[int(n[-2:])] + ' '\n",
    "        elif n[-1] == '0':\n",
    "            ans += decoder[int(n[-2:])] + ' '\n",
    "        else:\n",
    "            ans += decoder[int(n[-2]+'0')] + ' '\n",
    "            ans += decoder[int(n[-1])] + ' '\n",
    "    else:\n",
    "        ans += decoder[int(n[0])]\n",
    "    return ans\n",
    "\n",
    "\n",
    "n = int(input())\n",
    "if not isValid(n):\n",
    "    print(\"Input integer in range between 0-999\")\n",
    "else:\n",
    "    ans = intToString(n)\n",
    "    if len(str(n)) == 3:\n",
    "        ans = ans.replace('zero', '')\n",
    "        ans = ans.replace('  ', ' ')\n",
    "    print(ans)"
   ]
  },
  {
   "cell_type": "code",
   "execution_count": 88,
   "metadata": {},
   "outputs": [
    {
     "output_type": "stream",
     "name": "stdout",
     "text": [
      "1\n"
     ]
    }
   ],
   "source": [
    "# Exercise134: Unique Characters\n",
    "print(len(set(input().lower())))"
   ]
  },
  {
   "cell_type": "code",
   "execution_count": 90,
   "metadata": {},
   "outputs": [
    {
     "output_type": "stream",
     "name": "stdout",
     "text": [
      "YES\n"
     ]
    }
   ],
   "source": [
    "# Exercise135: Anagrams\n",
    "import string\n",
    "\n",
    "\n",
    "def checker(word):\n",
    "    buffer = dict.fromkeys(string.ascii_lowercase, 0)\n",
    "    for letter in word:\n",
    "        if letter in buffer:\n",
    "            buffer[letter] += 1\n",
    "    return buffer\n",
    "\n",
    "\n",
    "def isAnagram(word1, word2):\n",
    "    return checker(word1.lower()) == checker(word2.lower())\n",
    "\n",
    "\n",
    "s1 = input()\n",
    "s2 = input()\n",
    "print(\"YES\" if isAnagram(s1, s2) else \"NO\")"
   ]
  },
  {
   "cell_type": "code",
   "execution_count": 91,
   "metadata": {},
   "outputs": [
    {
     "output_type": "stream",
     "name": "stdout",
     "text": [
      "YES\n"
     ]
    }
   ],
   "source": [
    "s1 = input()\n",
    "s2 = input()\n",
    "print(\"YES\" if isAnagram(s1, s2) else \"NO\")"
   ]
  },
  {
   "cell_type": "code",
   "execution_count": 92,
   "metadata": {},
   "outputs": [
    {
     "output_type": "stream",
     "name": "stdout",
     "text": [
      "3\n"
     ]
    }
   ],
   "source": [
    "# Exercise137: Scrabble™Score\n",
    "scrabbleDict = {\n",
    "    'a' : 1,\n",
    "    'e' : 1,\n",
    "    'i' : 1,\n",
    "    'l' : 1,\n",
    "    'n' : 1,\n",
    "    'o' : 1,\n",
    "    'r' : 1,\n",
    "    's' : 1,\n",
    "    't' : 1,\n",
    "    'u' : 1,\n",
    "\n",
    "    'd' : 2,\n",
    "    'g' : 2,\n",
    "\n",
    "    'b' : 3,\n",
    "    'c' : 3,\n",
    "    'm' : 3,\n",
    "    'p' : 3,\n",
    "\n",
    "    'f' : 4,\n",
    "    'h' : 4,\n",
    "    'v' : 4,\n",
    "    'w' : 4,\n",
    "    'y' : 4,\n",
    "\n",
    "    'k' : 5,\n",
    "\n",
    "    'j' : 6,\n",
    "    'x' : 6,\n",
    "\n",
    "    'q' : 7,\n",
    "    'z' : 7,\n",
    "}\n",
    "\n",
    "ans = 0\n",
    "s = input().lower()\n",
    "for letter in s:\n",
    "    ans += scrabbleDict[letter]\n",
    "print(ans)"
   ]
  },
  {
   "cell_type": "code",
   "execution_count": 122,
   "metadata": {},
   "outputs": [],
   "source": [
    "#Bingo bingo bingo bingoooooooooooooooooooooooooooooooooooooooooooooooo\n",
    "import random\n",
    "\n",
    "def fillBingo(data):\n",
    "    for i in range(5):\n",
    "        mn, mx = 1, 15\n",
    "        for key in data:\n",
    "            data[key].append(random.randint(mn, mx))\n",
    "            mn, mx = mn+15, mx+15\n",
    "\n",
    "\n",
    "def getBingo(data):\n",
    "    res = \"\"\n",
    "    for key in data:\n",
    "        res += key + '\\t'\n",
    "    res += '\\n'\n",
    "    for i in range(5):\n",
    "        for key in data:\n",
    "            res += str(data[key][i]) + '\\t'\n",
    "        res += '\\n'\n",
    "    return res\n",
    "\n",
    "def isWin(card):\n",
    "    main_diag = 0\n",
    "    second_diag = 0\n",
    "    row = 0\n",
    "    for i in card.values():\n",
    "        if (i.count(0) == 5):\n",
    "            return True\n",
    "        main_diag += i[row]\n",
    "        second_diag += i[4 - row]\n",
    "        row += 1\n",
    "\n",
    "    if (main_diag == 0 or second_diag == 0):\n",
    "        return True\n",
    "\n",
    "    for i in range(5):\n",
    "        temp = 0\n",
    "        for j in card.values():\n",
    "            temp += j[i]\n",
    "        if (temp == 0):\n",
    "            return True\n",
    "    return False\n",
    "\n",
    "def crossNumbers(card, x):\n",
    "    flag = False\n",
    "    for i in card:\n",
    "        for j in range(len(card[i])):\n",
    "            if(card[i][j] == x): \n",
    "                card[i][j] = 0\n",
    "                flag = True\n",
    "    return flag\n"
   ]
  },
  {
   "cell_type": "code",
   "execution_count": 115,
   "metadata": {},
   "outputs": [
    {
     "output_type": "stream",
     "name": "stdout",
     "text": [
      "B\tI\tN\tG\tO\t\n5\t27\t37\t59\t61\t\n6\t19\t40\t48\t72\t\n15\t24\t40\t57\t73\t\n4\t29\t38\t57\t63\t\n12\t20\t40\t55\t63\t\n\nTrue\nTrue\nTrue\nTrue\nFalse\n"
     ]
    }
   ],
   "source": [
    "data = {'B': [], 'I': [], 'N': [], 'G': [], 'O': []}\n",
    "fillBingo(data)\n",
    "print(getBingo(data))\n",
    "\n",
    "bingoCard = {\n",
    "    'B': [1, 1, 1, 1, 1],\n",
    "    'I': [1, 1, 1, 1, 1],\n",
    "    'N': [0, 0, 0, 0, 0],\n",
    "    'G': [1, 1, 1, 1, 1],\n",
    "    'O': [1, 1, 1, 1, 1]\n",
    "}\n",
    "print(isWin(bingoCard))\n",
    "\n",
    "bingoCard = {\n",
    "    'B': [0, 1, 1, 1, 1],\n",
    "    'I': [1, 0, 1, 1, 1],\n",
    "    'N': [1, 1, 0, 1, 1],\n",
    "    'G': [1, 1, 1, 0, 1],\n",
    "    'O': [1, 1, 1, 1, 0]\n",
    "}\n",
    "print(isWin(bingoCard))\n",
    "\n",
    "bingoCard = {\n",
    "    'B': [1, 1, 1, 1, 0],\n",
    "    'I': [1, 1, 1, 0, 1],\n",
    "    'N': [1, 1, 0, 1, 1],\n",
    "    'G': [1, 0, 1, 1, 1],\n",
    "    'O': [0, 1, 1, 1, 1]\n",
    "}\n",
    "print(isWin(bingoCard))\n",
    "\n",
    "bingoCard = {\n",
    "    'B': [1, 1, 0, 1, 1],\n",
    "    'I': [1, 1, 0, 1, 1],\n",
    "    'N': [1, 1, 0, 1, 1],\n",
    "    'G': [1, 1, 0, 1, 1],\n",
    "    'O': [1, 1, 0, 1, 1]\n",
    "}\n",
    "\n",
    "print(isWin(bingoCard))\n",
    "bingoCard = {\n",
    "    'B': [1, 1, 1, 0, 1],\n",
    "    'I': [1, 1, 0, 1, 1],\n",
    "    'N': [1, 0, 1, 1, 1],\n",
    "    'G': [0, 1, 1, 1, 1],\n",
    "    'O': [1, 1, 1, 1, 1]\n",
    "}\n",
    "print(isWin(bingoCard))\n",
    "\n",
    "\n",
    "\n"
   ]
  },
  {
   "cell_type": "code",
   "execution_count": 125,
   "metadata": {},
   "outputs": [
    {
     "output_type": "stream",
     "name": "stdout",
     "text": [
      "------------------------------------------------\nWin numbers :  [13, 72, 47, 1, 20]\nOur card: \nB\tI\tN\tG\tO\t\n3\t30\t37\t52\t73\t\n6\t19\t33\t55\t64\t\n9\t24\t44\t56\t71\t\n7\t29\t36\t47\t63\t\n3\t17\t32\t55\t69\t\n\nCard after crossing:\nB\tI\tN\tG\tO\t\n3\t30\t37\t52\t73\t\n6\t19\t33\t55\t64\t\n9\t24\t44\t56\t71\t\n7\t29\t36\t0\t63\t\n3\t17\t32\t55\t69\t\n\nYou lose, try again!\n------------------------------------------------\nWin numbers :  [71, 61, 69, 13, 11]\nOur card: \nB\tI\tN\tG\tO\t\n3\t28\t36\t56\t68\t\n9\t30\t35\t58\t68\t\n14\t26\t43\t54\t64\t\n3\t25\t33\t57\t68\t\n11\t18\t38\t57\t64\t\n\nCard after crossing:\nB\tI\tN\tG\tO\t\n3\t28\t36\t56\t68\t\n9\t30\t35\t58\t68\t\n14\t26\t43\t54\t64\t\n3\t25\t33\t57\t68\t\n0\t18\t38\t57\t64\t\n\nYou lose, try again!\n------------------------------------------------\nWin numbers :  [51, 68, 29, 7, 64]\nOur card: \nB\tI\tN\tG\tO\t\n15\t30\t44\t53\t64\t\n10\t25\t38\t54\t72\t\n13\t26\t38\t47\t71\t\n11\t18\t39\t46\t67\t\n7\t22\t38\t60\t66\t\n\nCard after crossing:\nB\tI\tN\tG\tO\t\n15\t30\t44\t53\t0\t\n10\t25\t38\t54\t72\t\n13\t26\t38\t47\t71\t\n11\t18\t39\t46\t67\t\n0\t22\t38\t60\t66\t\n\nYou lose, try again!\n"
     ]
    }
   ],
   "source": [
    "# Visualisation\n",
    "acts = 3\n",
    "while(acts>0):\n",
    "    print('------------------------------------------------')\n",
    "    acts-=1\n",
    "    winNumbers = [random.randint(1,75) for i in range(5)]\n",
    "    print(\"Win numbers : \", winNumbers)\n",
    "    card = {'B': [], 'I': [], 'N': [], 'G': [], 'O': []}\n",
    "    fillBingo(card)\n",
    "    print(\"Our card: \")\n",
    "    print(getBingo(card))\n",
    "    print(\"Card after crossing:\")\n",
    "    for i in winNumbers:\n",
    "        crossNumbers(card,i)\n",
    "    print(getBingo(card))\n",
    "    print(\"You win!\" if isWin(card) else \"You lose, try again!\")\n"
   ]
  },
  {
   "cell_type": "code",
   "execution_count": 159,
   "metadata": {},
   "outputs": [
    {
     "output_type": "stream",
     "name": "stdout",
     "text": [
      "There were 668443 attempts to get 100 win cards\nAverage amount of attempts, to get win card:  6684.43\nMaximum amount of attempts, to get win card:  29579\nMinimum amount of attempts, to get win card:  23\n"
     ]
    }
   ],
   "source": [
    "acts = 0\n",
    "success = 0\n",
    "totalattempt = 0\n",
    "mn,mx = 1000000,-1\n",
    "while acts<100:\n",
    "    acts+=1\n",
    "    attempt = 0\n",
    "    while(True):\n",
    "        attempt+=1\n",
    "        winNumbers = [random.randint(1,75) for i in range(5)]\n",
    "        card = {'B': [], 'I': [], 'N': [], 'G': [], 'O': []}\n",
    "        fillBingo(card)\n",
    "        for i in winNumbers:\n",
    "            crossNumbers(card,i)\n",
    "        if isWin(card):\n",
    "            break\n",
    "    totalattempt+=attempt\n",
    "    mx = max(mx,attempt)\n",
    "    mn = min(mn,attempt)\n",
    "\n",
    "print(\"There were \" + str(totalattempt) + \" attempts to get 100 win cards\")\n",
    "print(\"Average amount of attempts, to get win card:  \" + str(totalattempt/100))\n",
    "print(\"Maximum amount of attempts, to get win card:  \" + str(mx))\n",
    "print(\"Minimum amount of attempts, to get win card:  \" + str(mn))\n",
    "\n",
    "# Сори не сделал для 1000, это заняло бы 20-30 минут, я не стал мучать ноут\n"
   ]
  },
  {
   "cell_type": "code",
   "execution_count": null,
   "metadata": {},
   "outputs": [],
   "source": []
  }
 ]
}